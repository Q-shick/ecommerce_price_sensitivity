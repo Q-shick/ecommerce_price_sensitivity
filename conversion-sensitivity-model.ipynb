{
 "cells": [
  {
   "cell_type": "code",
   "execution_count": 1,
   "id": "dfd47ff6",
   "metadata": {
    "_cell_guid": "b1076dfc-b9ad-4769-8c92-a6c4dae69d19",
    "_uuid": "8f2839f25d086af736a60e9eeb907d3b93b6e0e5",
    "execution": {
     "iopub.execute_input": "2024-11-07T17:13:54.190623Z",
     "iopub.status.busy": "2024-11-07T17:13:54.190158Z",
     "iopub.status.idle": "2024-11-07T17:14:00.259315Z",
     "shell.execute_reply": "2024-11-07T17:14:00.258038Z"
    },
    "papermill": {
     "duration": 6.077949,
     "end_time": "2024-11-07T17:14:00.262072",
     "exception": false,
     "start_time": "2024-11-07T17:13:54.184123",
     "status": "completed"
    },
    "tags": []
   },
   "outputs": [
    {
     "name": "stdout",
     "output_type": "stream",
     "text": [
      "/kaggle/input/e-commerce-synthetic-dataset/ecommerce_synthetic_data.csv\n"
     ]
    }
   ],
   "source": [
    "import warnings\n",
    "warnings.filterwarnings(\"ignore\")\n",
    "\n",
    "import os\n",
    "for dirname, _, filenames in os.walk('/kaggle/input'):\n",
    "    for filename in filenames:\n",
    "        print(os.path.join(dirname, filename))\n",
    "\n",
    "import numpy as np\n",
    "import pandas as pd\n",
    "import matplotlib.pyplot as plt\n",
    "\n",
    "from sklearn.preprocessing import StandardScaler\n",
    "from sklearn.metrics import roc_auc_score\n",
    "\n",
    "import torch\n",
    "import torch.nn as nn\n",
    "import torch.optim as optim"
   ]
  },
  {
   "cell_type": "code",
   "execution_count": 2,
   "id": "abf5e01b",
   "metadata": {
    "execution": {
     "iopub.execute_input": "2024-11-07T17:14:00.271219Z",
     "iopub.status.busy": "2024-11-07T17:14:00.270636Z",
     "iopub.status.idle": "2024-11-07T17:14:00.359716Z",
     "shell.execute_reply": "2024-11-07T17:14:00.358533Z"
    },
    "papermill": {
     "duration": 0.096424,
     "end_time": "2024-11-07T17:14:00.362262",
     "exception": false,
     "start_time": "2024-11-07T17:14:00.265838",
     "status": "completed"
    },
    "tags": []
   },
   "outputs": [
    {
     "data": {
      "text/html": [
       "<div>\n",
       "<style scoped>\n",
       "    .dataframe tbody tr th:only-of-type {\n",
       "        vertical-align: middle;\n",
       "    }\n",
       "\n",
       "    .dataframe tbody tr th {\n",
       "        vertical-align: top;\n",
       "    }\n",
       "\n",
       "    .dataframe thead th {\n",
       "        text-align: right;\n",
       "    }\n",
       "</style>\n",
       "<table border=\"1\" class=\"dataframe\">\n",
       "  <thead>\n",
       "    <tr style=\"text-align: right;\">\n",
       "      <th></th>\n",
       "      <th>ordered</th>\n",
       "      <th>past_spending</th>\n",
       "      <th>price</th>\n",
       "      <th>quantity</th>\n",
       "      <th>membership_flag</th>\n",
       "      <th>goods_type_clothing</th>\n",
       "      <th>goods_type_eletronics</th>\n",
       "      <th>goods_type_food</th>\n",
       "      <th>goods_type_furniture</th>\n",
       "      <th>goods_type_kichenware</th>\n",
       "      <th>goods_type_medicine</th>\n",
       "      <th>brand_tier_cheap</th>\n",
       "      <th>brand_tier_highend</th>\n",
       "      <th>brand_tier_popular</th>\n",
       "    </tr>\n",
       "  </thead>\n",
       "  <tbody>\n",
       "    <tr>\n",
       "      <th>0</th>\n",
       "      <td>0</td>\n",
       "      <td>1023.73</td>\n",
       "      <td>75.934756</td>\n",
       "      <td>1</td>\n",
       "      <td>0</td>\n",
       "      <td>1</td>\n",
       "      <td>0</td>\n",
       "      <td>0</td>\n",
       "      <td>0</td>\n",
       "      <td>0</td>\n",
       "      <td>0</td>\n",
       "      <td>1</td>\n",
       "      <td>0</td>\n",
       "      <td>0</td>\n",
       "    </tr>\n",
       "    <tr>\n",
       "      <th>1</th>\n",
       "      <td>0</td>\n",
       "      <td>0.00</td>\n",
       "      <td>278.957661</td>\n",
       "      <td>2</td>\n",
       "      <td>0</td>\n",
       "      <td>0</td>\n",
       "      <td>1</td>\n",
       "      <td>0</td>\n",
       "      <td>0</td>\n",
       "      <td>0</td>\n",
       "      <td>0</td>\n",
       "      <td>0</td>\n",
       "      <td>1</td>\n",
       "      <td>0</td>\n",
       "    </tr>\n",
       "    <tr>\n",
       "      <th>2</th>\n",
       "      <td>0</td>\n",
       "      <td>1873.31</td>\n",
       "      <td>7.383762</td>\n",
       "      <td>5</td>\n",
       "      <td>0</td>\n",
       "      <td>1</td>\n",
       "      <td>0</td>\n",
       "      <td>0</td>\n",
       "      <td>0</td>\n",
       "      <td>0</td>\n",
       "      <td>0</td>\n",
       "      <td>0</td>\n",
       "      <td>1</td>\n",
       "      <td>0</td>\n",
       "    </tr>\n",
       "    <tr>\n",
       "      <th>3</th>\n",
       "      <td>0</td>\n",
       "      <td>592.82</td>\n",
       "      <td>72.419637</td>\n",
       "      <td>1</td>\n",
       "      <td>0</td>\n",
       "      <td>0</td>\n",
       "      <td>1</td>\n",
       "      <td>0</td>\n",
       "      <td>0</td>\n",
       "      <td>0</td>\n",
       "      <td>0</td>\n",
       "      <td>0</td>\n",
       "      <td>0</td>\n",
       "      <td>1</td>\n",
       "    </tr>\n",
       "    <tr>\n",
       "      <th>4</th>\n",
       "      <td>0</td>\n",
       "      <td>796.50</td>\n",
       "      <td>350.501563</td>\n",
       "      <td>1</td>\n",
       "      <td>1</td>\n",
       "      <td>0</td>\n",
       "      <td>0</td>\n",
       "      <td>0</td>\n",
       "      <td>1</td>\n",
       "      <td>0</td>\n",
       "      <td>0</td>\n",
       "      <td>0</td>\n",
       "      <td>0</td>\n",
       "      <td>1</td>\n",
       "    </tr>\n",
       "  </tbody>\n",
       "</table>\n",
       "</div>"
      ],
      "text/plain": [
       "   ordered  past_spending       price  quantity  membership_flag  \\\n",
       "0        0        1023.73   75.934756         1                0   \n",
       "1        0           0.00  278.957661         2                0   \n",
       "2        0        1873.31    7.383762         5                0   \n",
       "3        0         592.82   72.419637         1                0   \n",
       "4        0         796.50  350.501563         1                1   \n",
       "\n",
       "   goods_type_clothing  goods_type_eletronics  goods_type_food  \\\n",
       "0                    1                      0                0   \n",
       "1                    0                      1                0   \n",
       "2                    1                      0                0   \n",
       "3                    0                      1                0   \n",
       "4                    0                      0                0   \n",
       "\n",
       "   goods_type_furniture  goods_type_kichenware  goods_type_medicine  \\\n",
       "0                     0                      0                    0   \n",
       "1                     0                      0                    0   \n",
       "2                     0                      0                    0   \n",
       "3                     0                      0                    0   \n",
       "4                     1                      0                    0   \n",
       "\n",
       "   brand_tier_cheap  brand_tier_highend  brand_tier_popular  \n",
       "0                 1                   0                   0  \n",
       "1                 0                   1                   0  \n",
       "2                 0                   1                   0  \n",
       "3                 0                   0                   1  \n",
       "4                 0                   0                   1  "
      ]
     },
     "execution_count": 2,
     "metadata": {},
     "output_type": "execute_result"
    }
   ],
   "source": [
    "training_data = pd.read_csv(\"/kaggle/input/e-commerce-synthetic-dataset/ecommerce_synthetic_data.csv\")\n",
    "training_data.head()"
   ]
  },
  {
   "cell_type": "code",
   "execution_count": 3,
   "id": "783a056e",
   "metadata": {
    "execution": {
     "iopub.execute_input": "2024-11-07T17:14:00.371240Z",
     "iopub.status.busy": "2024-11-07T17:14:00.370797Z",
     "iopub.status.idle": "2024-11-07T17:14:00.387425Z",
     "shell.execute_reply": "2024-11-07T17:14:00.386233Z"
    },
    "papermill": {
     "duration": 0.02386,
     "end_time": "2024-11-07T17:14:00.389788",
     "exception": false,
     "start_time": "2024-11-07T17:14:00.365928",
     "status": "completed"
    },
    "tags": []
   },
   "outputs": [],
   "source": [
    "class MaxWinRateParam(nn.Module):\n",
    "    def __init__(self):\n",
    "        super(MaxWinRateParam, self).__init__()\n",
    "        self.hidden_layer = nn.Linear(12, 5)\n",
    "        self.output_layer = nn.Linear(5, 1)\n",
    "        self.sigmoid_activation = nn.Sigmoid()\n",
    "\n",
    "    def forward(self, x):\n",
    "        x = self.hidden_layer(x)\n",
    "        x = self.output_layer(x)\n",
    "        x = self.sigmoid_activation(x)\n",
    "        return x\n",
    "\n",
    "\n",
    "class BiasParam(nn.Module):\n",
    "    def __init__(self):\n",
    "        super(BiasParam, self).__init__()\n",
    "        self.hidden_layer = nn.Linear(12, 5)\n",
    "        self.relu_activation = nn.ReLU()\n",
    "        self.output_layer = nn.Linear(5, 1)\n",
    "        self.elu_activation = nn.ELU()\n",
    "\n",
    "    def forward(self, x):\n",
    "        x = self.hidden_layer(x)\n",
    "        x = self.relu_activation(x)\n",
    "        x = self.output_layer(x)\n",
    "        x = self.elu_activation(x)\n",
    "        return x\n",
    "\n",
    "\n",
    "class SensitivityParam(nn.Module):\n",
    "    def __init__(self):\n",
    "        super(SensitivityParam, self).__init__()\n",
    "        self.hidden_layer = nn.Linear(12, 5)\n",
    "        self.relu_activation = nn.ReLU()\n",
    "        self.output_layer = nn.Linear(5, 1)\n",
    "\n",
    "    def forward(self, x):\n",
    "        x = self.hidden_layer(x)\n",
    "        x = self.relu_activation(x)\n",
    "        x = self.output_layer(x)\n",
    "        x = self.relu_activation(x)\n",
    "        return torch.exp(x) - 1\n",
    "\n",
    "\n",
    "class WinRateNetwork(nn.Module):\n",
    "    def __init__(self):\n",
    "        super(WinRateNetwork, self).__init__()\n",
    "        self.max_win_rate = MaxWinRateParam()\n",
    "        self.bias = BiasParam()\n",
    "        self.sensitivity = SensitivityParam()\n",
    "\n",
    "    def forward(self, features, price):\n",
    "        mul_term = torch.mul(self.sensitivity(features), price)\n",
    "        add_term = torch.add(self.bias(features), mul_term)\n",
    "        return self.max_win_rate(features) / (1 + torch.exp(add_term))"
   ]
  },
  {
   "cell_type": "code",
   "execution_count": 4,
   "id": "c64b0ea3",
   "metadata": {
    "execution": {
     "iopub.execute_input": "2024-11-07T17:14:00.398769Z",
     "iopub.status.busy": "2024-11-07T17:14:00.398333Z",
     "iopub.status.idle": "2024-11-07T17:14:00.497670Z",
     "shell.execute_reply": "2024-11-07T17:14:00.496596Z"
    },
    "papermill": {
     "duration": 0.106856,
     "end_time": "2024-11-07T17:14:00.500311",
     "exception": false,
     "start_time": "2024-11-07T17:14:00.393455",
     "status": "completed"
    },
    "tags": []
   },
   "outputs": [
    {
     "data": {
      "text/html": [
       "<div>\n",
       "<style scoped>\n",
       "    .dataframe tbody tr th:only-of-type {\n",
       "        vertical-align: middle;\n",
       "    }\n",
       "\n",
       "    .dataframe tbody tr th {\n",
       "        vertical-align: top;\n",
       "    }\n",
       "\n",
       "    .dataframe thead th {\n",
       "        text-align: right;\n",
       "    }\n",
       "</style>\n",
       "<table border=\"1\" class=\"dataframe\">\n",
       "  <thead>\n",
       "    <tr style=\"text-align: right;\">\n",
       "      <th></th>\n",
       "      <th>goods</th>\n",
       "      <th>price</th>\n",
       "    </tr>\n",
       "  </thead>\n",
       "  <tbody>\n",
       "    <tr>\n",
       "      <th>0</th>\n",
       "      <td>type_clothing</td>\n",
       "      <td>116.90</td>\n",
       "    </tr>\n",
       "    <tr>\n",
       "      <th>1</th>\n",
       "      <td>type_eletronics</td>\n",
       "      <td>160.34</td>\n",
       "    </tr>\n",
       "    <tr>\n",
       "      <th>2</th>\n",
       "      <td>type_food</td>\n",
       "      <td>39.98</td>\n",
       "    </tr>\n",
       "    <tr>\n",
       "      <th>3</th>\n",
       "      <td>type_furniture</td>\n",
       "      <td>237.82</td>\n",
       "    </tr>\n",
       "    <tr>\n",
       "      <th>4</th>\n",
       "      <td>type_kichenware</td>\n",
       "      <td>80.62</td>\n",
       "    </tr>\n",
       "    <tr>\n",
       "      <th>5</th>\n",
       "      <td>type_medicine</td>\n",
       "      <td>58.16</td>\n",
       "    </tr>\n",
       "  </tbody>\n",
       "</table>\n",
       "</div>"
      ],
      "text/plain": [
       "             goods   price\n",
       "0    type_clothing  116.90\n",
       "1  type_eletronics  160.34\n",
       "2        type_food   39.98\n",
       "3   type_furniture  237.82\n",
       "4  type_kichenware   80.62\n",
       "5    type_medicine   58.16"
      ]
     },
     "execution_count": 4,
     "metadata": {},
     "output_type": "execute_result"
    }
   ],
   "source": [
    "train_features = training_data[[x for x in training_data.columns if x not in [\"ordered\", \"price\"]]]\n",
    "train_features[[\"past_spending\", \"quantity\"]] = StandardScaler().fit_transform(train_features[[\"past_spending\", \"quantity\"]])\n",
    "\n",
    "price_with_goods_type = pd.concat(\n",
    "    [\n",
    "        training_data[\"price\"],\n",
    "        pd.from_dummies(training_data[[x for x in training_data.columns if \"goods_type\" in x]], sep=\"_\"),\n",
    "    ], \n",
    "    axis=1,\n",
    ")\n",
    "train_prices = price_with_goods_type.groupby(\"goods\")[\"price\"].transform(\n",
    "    lambda x: StandardScaler().fit_transform(x.values[:,np.newaxis]).ravel()\n",
    ").values.reshape(-1,1)\n",
    "\n",
    "price_with_goods_type.groupby(\"goods\").mean().reset_index().round(2)"
   ]
  },
  {
   "cell_type": "code",
   "execution_count": 5,
   "id": "f92aeacb",
   "metadata": {
    "execution": {
     "iopub.execute_input": "2024-11-07T17:14:00.510051Z",
     "iopub.status.busy": "2024-11-07T17:14:00.509646Z",
     "iopub.status.idle": "2024-11-07T17:15:32.035735Z",
     "shell.execute_reply": "2024-11-07T17:15:32.034400Z"
    },
    "papermill": {
     "duration": 91.534374,
     "end_time": "2024-11-07T17:15:32.038671",
     "exception": false,
     "start_time": "2024-11-07T17:14:00.504297",
     "status": "completed"
    },
    "tags": []
   },
   "outputs": [
    {
     "name": "stdout",
     "output_type": "stream",
     "text": [
      "Epoch: 1\n",
      "Epoch: 101\n",
      "Epoch: 201\n",
      "Epoch: 301\n",
      "Epoch: 401\n"
     ]
    }
   ],
   "source": [
    "# convert pandas DataFrame (X) and numpy array (y) into PyTorch tensors\n",
    "X_train = torch.tensor(train_features.values, dtype=torch.float32)\n",
    "price_train = torch.tensor(train_prices, dtype=torch.float32)\n",
    "y_train = torch.tensor(training_data[\"ordered\"].values.reshape(-1,1), dtype=torch.float32)\n",
    "\n",
    "# training parameters\n",
    "n_epochs = 500\n",
    "batch_size = 256\n",
    "batches_per_epoch = len(X_train) // batch_size\n",
    "\n",
    "model = WinRateNetwork()\n",
    "criterion = nn.BCELoss()\n",
    "optimizer = optim.Adam(model.parameters(), lr=0.0001)\n",
    "\n",
    "for epoch in range(n_epochs):\n",
    "    if epoch % 100 == 0:\n",
    "        print(f\"Epoch: {epoch + 1}\")\n",
    "    for i in range(batches_per_epoch):\n",
    "        # take a batch\n",
    "        start = i * batch_size\n",
    "        X_batch = X_train[start:start + batch_size]\n",
    "        price_batch = price_train[start:start + batch_size]\n",
    "        y_batch = y_train[start:start + batch_size]\n",
    "        # forward pass\n",
    "        y_pred = model(X_batch, price_batch)\n",
    "        loss = criterion(y_pred, y_batch)\n",
    "        # backward pass\n",
    "        optimizer.zero_grad()\n",
    "        loss.backward()\n",
    "        # update weights\n",
    "        optimizer.step()"
   ]
  },
  {
   "cell_type": "code",
   "execution_count": 6,
   "id": "c1ce36f1",
   "metadata": {
    "execution": {
     "iopub.execute_input": "2024-11-07T17:15:32.049947Z",
     "iopub.status.busy": "2024-11-07T17:15:32.049264Z",
     "iopub.status.idle": "2024-11-07T17:15:32.434884Z",
     "shell.execute_reply": "2024-11-07T17:15:32.433772Z"
    },
    "papermill": {
     "duration": 0.394139,
     "end_time": "2024-11-07T17:15:32.437482",
     "exception": false,
     "start_time": "2024-11-07T17:15:32.043343",
     "status": "completed"
    },
    "tags": []
   },
   "outputs": [
    {
     "data": {
      "image/png": "[encoded data removed]",
      "text/plain": [
       "<Figure size 640x480 with 1 Axes>"
      ]
     },
     "metadata": {},
     "output_type": "display_data"
    },
    {
     "data": {
      "text/plain": [
       "0.9632014481287836"
      ]
     },
     "execution_count": 6,
     "metadata": {},
     "output_type": "execute_result"
    }
   ],
   "source": [
    "pred = model(X_train, price_train).detach().numpy()\n",
    "plt.hist(pred, bins=50)\n",
    "plt.show()\n",
    "roc_auc_score(y_train, pred)"
   ]
  }
 ],
 "metadata": {
  "kaggle": {
   "accelerator": "none",
   "dataSources": [
    {
     "datasetId": 6033524,
     "sourceId": 9836139,
     "sourceType": "datasetVersion"
    }
   ],
   "dockerImageVersionId": 30786,
   "isGpuEnabled": false,
   "isInternetEnabled": true,
   "language": "python",
   "sourceType": "notebook"
  },
  "kernelspec": {
   "display_name": "Python 3",
   "language": "python",
   "name": "python3"
  },
  "language_info": {
   "codemirror_mode": {
    "name": "ipython",
    "version": 3
   },
   "file_extension": ".py",
   "mimetype": "text/x-python",
   "name": "python",
   "nbconvert_exporter": "python",
   "pygments_lexer": "ipython3",
   "version": "3.10.14"
  },
  "papermill": {
   "default_parameters": {},
   "duration": 103.56299,
   "end_time": "2024-11-07T17:15:34.711039",
   "environment_variables": {},
   "exception": null,
   "input_path": "__notebook__.ipynb",
   "output_path": "__notebook__.ipynb",
   "parameters": {},
   "start_time": "2024-11-07T17:13:51.148049",
   "version": "2.6.0"
  }
 },
 "nbformat": 4,
 "nbformat_minor": 5
}
