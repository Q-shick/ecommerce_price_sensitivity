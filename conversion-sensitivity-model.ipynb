{
 "cells": [
  {
   "cell_type": "code",
   "execution_count": 1,
   "id": "0a38fbea",
   "metadata": {
    "_cell_guid": "b1076dfc-b9ad-4769-8c92-a6c4dae69d19",
    "_uuid": "8f2839f25d086af736a60e9eeb907d3b93b6e0e5",
    "execution": {
     "iopub.execute_input": "2024-11-10T04:36:41.864878Z",
     "iopub.status.busy": "2024-11-10T04:36:41.864433Z",
     "iopub.status.idle": "2024-11-10T04:36:46.841286Z",
     "shell.execute_reply": "2024-11-10T04:36:46.840270Z"
    },
    "papermill": {
     "duration": 4.985447,
     "end_time": "2024-11-10T04:36:46.843776",
     "exception": false,
     "start_time": "2024-11-10T04:36:41.858329",
     "status": "completed"
    },
    "tags": []
   },
   "outputs": [
    {
     "name": "stdout",
     "output_type": "stream",
     "text": [
      "/kaggle/input/e-commerce-synthetic-dataset/ecommerce_synthetic_data.csv\n"
     ]
    }
   ],
   "source": [
    "import warnings\n",
    "warnings.filterwarnings(\"ignore\")\n",
    "\n",
    "import os\n",
    "for dirname, _, filenames in os.walk('/kaggle/input'):\n",
    "    for filename in filenames:\n",
    "        print(os.path.join(dirname, filename))\n",
    "\n",
    "import numpy as np\n",
    "import pandas as pd\n",
    "import matplotlib.pyplot as plt\n",
    "\n",
    "from sklearn.preprocessing import StandardScaler, MinMaxScaler\n",
    "from sklearn.model_selection import train_test_split\n",
    "from sklearn.metrics import roc_auc_score, roc_curve\n",
    "\n",
    "import torch\n",
    "import torch.nn as nn\n",
    "import torch.optim as optim"
   ]
  },
  {
   "cell_type": "code",
   "execution_count": 2,
   "id": "321a8d93",
   "metadata": {
    "execution": {
     "iopub.execute_input": "2024-11-10T04:36:46.853486Z",
     "iopub.status.busy": "2024-11-10T04:36:46.852973Z",
     "iopub.status.idle": "2024-11-10T04:36:46.929745Z",
     "shell.execute_reply": "2024-11-10T04:36:46.928618Z"
    },
    "papermill": {
     "duration": 0.084125,
     "end_time": "2024-11-10T04:36:46.932012",
     "exception": false,
     "start_time": "2024-11-10T04:36:46.847887",
     "status": "completed"
    },
    "tags": []
   },
   "outputs": [
    {
     "data": {
      "text/html": [
       "<div>\n",
       "<style scoped>\n",
       "    .dataframe tbody tr th:only-of-type {\n",
       "        vertical-align: middle;\n",
       "    }\n",
       "\n",
       "    .dataframe tbody tr th {\n",
       "        vertical-align: top;\n",
       "    }\n",
       "\n",
       "    .dataframe thead th {\n",
       "        text-align: right;\n",
       "    }\n",
       "</style>\n",
       "<table border=\"1\" class=\"dataframe\">\n",
       "  <thead>\n",
       "    <tr style=\"text-align: right;\">\n",
       "      <th></th>\n",
       "      <th>ordered</th>\n",
       "      <th>past_spending</th>\n",
       "      <th>price</th>\n",
       "      <th>quantity</th>\n",
       "      <th>membership_flag</th>\n",
       "      <th>goods_type_clothing</th>\n",
       "      <th>goods_type_eletronics</th>\n",
       "      <th>goods_type_food</th>\n",
       "      <th>goods_type_furniture</th>\n",
       "      <th>goods_type_kichenware</th>\n",
       "      <th>goods_type_medicine</th>\n",
       "      <th>brand_tier_cheap</th>\n",
       "      <th>brand_tier_highend</th>\n",
       "      <th>brand_tier_popular</th>\n",
       "    </tr>\n",
       "  </thead>\n",
       "  <tbody>\n",
       "    <tr>\n",
       "      <th>0</th>\n",
       "      <td>0</td>\n",
       "      <td>1023.73</td>\n",
       "      <td>75.934756</td>\n",
       "      <td>1</td>\n",
       "      <td>0</td>\n",
       "      <td>1</td>\n",
       "      <td>0</td>\n",
       "      <td>0</td>\n",
       "      <td>0</td>\n",
       "      <td>0</td>\n",
       "      <td>0</td>\n",
       "      <td>1</td>\n",
       "      <td>0</td>\n",
       "      <td>0</td>\n",
       "    </tr>\n",
       "    <tr>\n",
       "      <th>1</th>\n",
       "      <td>0</td>\n",
       "      <td>0.00</td>\n",
       "      <td>278.957661</td>\n",
       "      <td>2</td>\n",
       "      <td>0</td>\n",
       "      <td>0</td>\n",
       "      <td>1</td>\n",
       "      <td>0</td>\n",
       "      <td>0</td>\n",
       "      <td>0</td>\n",
       "      <td>0</td>\n",
       "      <td>0</td>\n",
       "      <td>1</td>\n",
       "      <td>0</td>\n",
       "    </tr>\n",
       "    <tr>\n",
       "      <th>2</th>\n",
       "      <td>0</td>\n",
       "      <td>1873.31</td>\n",
       "      <td>7.383762</td>\n",
       "      <td>5</td>\n",
       "      <td>0</td>\n",
       "      <td>1</td>\n",
       "      <td>0</td>\n",
       "      <td>0</td>\n",
       "      <td>0</td>\n",
       "      <td>0</td>\n",
       "      <td>0</td>\n",
       "      <td>0</td>\n",
       "      <td>1</td>\n",
       "      <td>0</td>\n",
       "    </tr>\n",
       "    <tr>\n",
       "      <th>3</th>\n",
       "      <td>0</td>\n",
       "      <td>592.82</td>\n",
       "      <td>72.419637</td>\n",
       "      <td>1</td>\n",
       "      <td>0</td>\n",
       "      <td>0</td>\n",
       "      <td>1</td>\n",
       "      <td>0</td>\n",
       "      <td>0</td>\n",
       "      <td>0</td>\n",
       "      <td>0</td>\n",
       "      <td>0</td>\n",
       "      <td>0</td>\n",
       "      <td>1</td>\n",
       "    </tr>\n",
       "    <tr>\n",
       "      <th>4</th>\n",
       "      <td>0</td>\n",
       "      <td>796.50</td>\n",
       "      <td>350.501563</td>\n",
       "      <td>1</td>\n",
       "      <td>1</td>\n",
       "      <td>0</td>\n",
       "      <td>0</td>\n",
       "      <td>0</td>\n",
       "      <td>1</td>\n",
       "      <td>0</td>\n",
       "      <td>0</td>\n",
       "      <td>0</td>\n",
       "      <td>0</td>\n",
       "      <td>1</td>\n",
       "    </tr>\n",
       "  </tbody>\n",
       "</table>\n",
       "</div>"
      ],
      "text/plain": [
       "   ordered  past_spending       price  quantity  membership_flag  \\\n",
       "0        0        1023.73   75.934756         1                0   \n",
       "1        0           0.00  278.957661         2                0   \n",
       "2        0        1873.31    7.383762         5                0   \n",
       "3        0         592.82   72.419637         1                0   \n",
       "4        0         796.50  350.501563         1                1   \n",
       "\n",
       "   goods_type_clothing  goods_type_eletronics  goods_type_food  \\\n",
       "0                    1                      0                0   \n",
       "1                    0                      1                0   \n",
       "2                    1                      0                0   \n",
       "3                    0                      1                0   \n",
       "4                    0                      0                0   \n",
       "\n",
       "   goods_type_furniture  goods_type_kichenware  goods_type_medicine  \\\n",
       "0                     0                      0                    0   \n",
       "1                     0                      0                    0   \n",
       "2                     0                      0                    0   \n",
       "3                     0                      0                    0   \n",
       "4                     1                      0                    0   \n",
       "\n",
       "   brand_tier_cheap  brand_tier_highend  brand_tier_popular  \n",
       "0                 1                   0                   0  \n",
       "1                 0                   1                   0  \n",
       "2                 0                   1                   0  \n",
       "3                 0                   0                   1  \n",
       "4                 0                   0                   1  "
      ]
     },
     "execution_count": 2,
     "metadata": {},
     "output_type": "execute_result"
    }
   ],
   "source": [
    "training_data = pd.read_csv(\"/kaggle/input/e-commerce-synthetic-dataset/ecommerce_synthetic_data.csv\")\n",
    "training_data.head()"
   ]
  },
  {
   "cell_type": "code",
   "execution_count": 3,
   "id": "b556f2dd",
   "metadata": {
    "execution": {
     "iopub.execute_input": "2024-11-10T04:36:46.942389Z",
     "iopub.status.busy": "2024-11-10T04:36:46.941979Z",
     "iopub.status.idle": "2024-11-10T04:36:47.081151Z",
     "shell.execute_reply": "2024-11-10T04:36:47.080150Z"
    },
    "papermill": {
     "duration": 0.147174,
     "end_time": "2024-11-10T04:36:47.083567",
     "exception": false,
     "start_time": "2024-11-10T04:36:46.936393",
     "status": "completed"
    },
    "tags": []
   },
   "outputs": [],
   "source": [
    "# Good's type column from one-hot encoded columns for stratification\n",
    "goods_type = pd.from_dummies(\n",
    "    training_data[[x for x in training_data.columns if \"goods_type\" in x]], \n",
    "    sep=\"_\",\n",
    ")\n",
    "\n",
    "# Split dataset into train and test\n",
    "X_train, X_test, y_train, y_test = train_test_split(\n",
    "    training_data[[x for x in training_data.columns if x != \"ordered\"]], \n",
    "    training_data[\"ordered\"], \n",
    "    test_size=0.5, \n",
    "    random_state=2024, \n",
    "    stratify=goods_type,\n",
    ")\n",
    "\n",
    "# Features in training set\n",
    "features_train = X_train[[x for x in X_train.columns if x != \"price\"]]\n",
    "features_scaler = StandardScaler().fit(features_train[[\"past_spending\", \"quantity\"]])\n",
    "features_train[[\"past_spending\", \"quantity\"]] = features_scaler.transform(\n",
    "    features_train[[\"past_spending\", \"quantity\"]]\n",
    ")\n",
    "\n",
    "# Features in testing set\n",
    "features_test = X_test[[x for x in X_test.columns if x != \"price\"]]\n",
    "features_test[[\"past_spending\", \"quantity\"]] = features_scaler.transform(\n",
    "    features_test[[\"past_spending\", \"quantity\"]]\n",
    ")"
   ]
  },
  {
   "cell_type": "code",
   "execution_count": 4,
   "id": "8f8dc553",
   "metadata": {
    "execution": {
     "iopub.execute_input": "2024-11-10T04:36:47.093771Z",
     "iopub.status.busy": "2024-11-10T04:36:47.093330Z",
     "iopub.status.idle": "2024-11-10T04:36:47.177616Z",
     "shell.execute_reply": "2024-11-10T04:36:47.176584Z"
    },
    "papermill": {
     "duration": 0.092298,
     "end_time": "2024-11-10T04:36:47.180138",
     "exception": false,
     "start_time": "2024-11-10T04:36:47.087840",
     "status": "completed"
    },
    "tags": []
   },
   "outputs": [
    {
     "name": "stdout",
     "output_type": "stream",
     "text": [
      "Scaled prices evenly distributed across good's type\n"
     ]
    },
    {
     "data": {
      "text/html": [
       "<div>\n",
       "<style scoped>\n",
       "    .dataframe tbody tr th:only-of-type {\n",
       "        vertical-align: middle;\n",
       "    }\n",
       "\n",
       "    .dataframe tbody tr th {\n",
       "        vertical-align: top;\n",
       "    }\n",
       "\n",
       "    .dataframe thead th {\n",
       "        text-align: right;\n",
       "    }\n",
       "</style>\n",
       "<table border=\"1\" class=\"dataframe\">\n",
       "  <thead>\n",
       "    <tr style=\"text-align: right;\">\n",
       "      <th></th>\n",
       "      <th>count</th>\n",
       "      <th>mean</th>\n",
       "      <th>std</th>\n",
       "      <th>min</th>\n",
       "      <th>25%</th>\n",
       "      <th>50%</th>\n",
       "      <th>75%</th>\n",
       "      <th>max</th>\n",
       "    </tr>\n",
       "    <tr>\n",
       "      <th>goods</th>\n",
       "      <th></th>\n",
       "      <th></th>\n",
       "      <th></th>\n",
       "      <th></th>\n",
       "      <th></th>\n",
       "      <th></th>\n",
       "      <th></th>\n",
       "      <th></th>\n",
       "    </tr>\n",
       "  </thead>\n",
       "  <tbody>\n",
       "    <tr>\n",
       "      <th>type_clothing</th>\n",
       "      <td>1675.0</td>\n",
       "      <td>0.265</td>\n",
       "      <td>0.210</td>\n",
       "      <td>0.000</td>\n",
       "      <td>0.104</td>\n",
       "      <td>0.206</td>\n",
       "      <td>0.376</td>\n",
       "      <td>0.996</td>\n",
       "    </tr>\n",
       "    <tr>\n",
       "      <th>type_eletronics</th>\n",
       "      <td>1652.0</td>\n",
       "      <td>0.273</td>\n",
       "      <td>0.220</td>\n",
       "      <td>-0.000</td>\n",
       "      <td>0.102</td>\n",
       "      <td>0.209</td>\n",
       "      <td>0.401</td>\n",
       "      <td>1.029</td>\n",
       "    </tr>\n",
       "    <tr>\n",
       "      <th>type_food</th>\n",
       "      <td>1628.0</td>\n",
       "      <td>0.273</td>\n",
       "      <td>0.219</td>\n",
       "      <td>-0.000</td>\n",
       "      <td>0.105</td>\n",
       "      <td>0.208</td>\n",
       "      <td>0.396</td>\n",
       "      <td>0.978</td>\n",
       "    </tr>\n",
       "    <tr>\n",
       "      <th>type_furniture</th>\n",
       "      <td>1660.0</td>\n",
       "      <td>0.271</td>\n",
       "      <td>0.223</td>\n",
       "      <td>-0.000</td>\n",
       "      <td>0.106</td>\n",
       "      <td>0.207</td>\n",
       "      <td>0.379</td>\n",
       "      <td>0.996</td>\n",
       "    </tr>\n",
       "    <tr>\n",
       "      <th>type_kichenware</th>\n",
       "      <td>1732.0</td>\n",
       "      <td>0.273</td>\n",
       "      <td>0.217</td>\n",
       "      <td>-0.001</td>\n",
       "      <td>0.105</td>\n",
       "      <td>0.212</td>\n",
       "      <td>0.395</td>\n",
       "      <td>1.000</td>\n",
       "    </tr>\n",
       "    <tr>\n",
       "      <th>type_medicine</th>\n",
       "      <td>1653.0</td>\n",
       "      <td>0.256</td>\n",
       "      <td>0.210</td>\n",
       "      <td>-0.000</td>\n",
       "      <td>0.095</td>\n",
       "      <td>0.192</td>\n",
       "      <td>0.371</td>\n",
       "      <td>1.011</td>\n",
       "    </tr>\n",
       "  </tbody>\n",
       "</table>\n",
       "</div>"
      ],
      "text/plain": [
       "                  count   mean    std    min    25%    50%    75%    max\n",
       "goods                                                                   \n",
       "type_clothing    1675.0  0.265  0.210  0.000  0.104  0.206  0.376  0.996\n",
       "type_eletronics  1652.0  0.273  0.220 -0.000  0.102  0.209  0.401  1.029\n",
       "type_food        1628.0  0.273  0.219 -0.000  0.105  0.208  0.396  0.978\n",
       "type_furniture   1660.0  0.271  0.223 -0.000  0.106  0.207  0.379  0.996\n",
       "type_kichenware  1732.0  0.273  0.217 -0.001  0.105  0.212  0.395  1.000\n",
       "type_medicine    1653.0  0.256  0.210 -0.000  0.095  0.192  0.371  1.011"
      ]
     },
     "execution_count": 4,
     "metadata": {},
     "output_type": "execute_result"
    }
   ],
   "source": [
    "price_with_goods_type = pd.concat([training_data[\"price\"], goods_type], axis=1)\n",
    "price_train = price_with_goods_type[price_with_goods_type.index.isin(X_train.index)]\n",
    "price_test = price_with_goods_type[price_with_goods_type.index.isin(X_test.index)]\n",
    "\n",
    "for x in price_with_goods_type[\"goods\"].unique():\n",
    "    price_train_scale = price_train.loc[price_train[\"goods\"] == x, \"price\"].values.reshape(-1,1)\n",
    "    price_test_scale = price_test.loc[price_test[\"goods\"] == x, \"price\"].values.reshape(-1,1)\n",
    "    # Scale with training prices\n",
    "    price_scaler = MinMaxScaler().fit(price_train_scale)\n",
    "    price_train.loc[price_train[\"goods\"] == x, \"price\"] = price_scaler.transform(price_train_scale)\n",
    "    price_test.loc[price_test[\"goods\"] == x, \"price\"] = price_scaler.transform(price_test_scale)\n",
    "\n",
    "print(\"Scaled prices evenly distributed across good's type\")\n",
    "price_test.groupby(\"goods\")[\"price\"].describe().round(3)"
   ]
  },
  {
   "cell_type": "code",
   "execution_count": 5,
   "id": "1ff17298",
   "metadata": {
    "execution": {
     "iopub.execute_input": "2024-11-10T04:36:47.190736Z",
     "iopub.status.busy": "2024-11-10T04:36:47.190306Z",
     "iopub.status.idle": "2024-11-10T04:36:47.230622Z",
     "shell.execute_reply": "2024-11-10T04:36:47.229479Z"
    },
    "papermill": {
     "duration": 0.048777,
     "end_time": "2024-11-10T04:36:47.233370",
     "exception": false,
     "start_time": "2024-11-10T04:36:47.184593",
     "status": "completed"
    },
    "tags": []
   },
   "outputs": [],
   "source": [
    "# Convert dataframe and numpy array into tensors\n",
    "features_train_tensor = torch.tensor(features_train.values, dtype=torch.float32)\n",
    "price_train_tensor = torch.tensor(price_train[\"price\"].values.reshape(-1,1), dtype=torch.float32)\n",
    "y_train_tensor = torch.tensor(y_train.values.reshape(-1,1), dtype=torch.float32)\n",
    "\n",
    "features_test_tensor = torch.tensor(features_test.values, dtype=torch.float32)\n",
    "price_test_tensor = torch.tensor(price_test[\"price\"].values.reshape(-1,1), dtype=torch.float32)\n",
    "y_test_tensor = torch.tensor(y_test.values.reshape(-1,1), dtype=torch.float32)"
   ]
  },
  {
   "cell_type": "code",
   "execution_count": 6,
   "id": "4234f017",
   "metadata": {
    "execution": {
     "iopub.execute_input": "2024-11-10T04:36:47.244482Z",
     "iopub.status.busy": "2024-11-10T04:36:47.244079Z",
     "iopub.status.idle": "2024-11-10T04:36:47.259551Z",
     "shell.execute_reply": "2024-11-10T04:36:47.258600Z"
    },
    "papermill": {
     "duration": 0.023772,
     "end_time": "2024-11-10T04:36:47.261909",
     "exception": false,
     "start_time": "2024-11-10T04:36:47.238137",
     "status": "completed"
    },
    "tags": []
   },
   "outputs": [],
   "source": [
    "class MaxWinRateParam(nn.Module):\n",
    "    def __init__(self):\n",
    "        super(MaxWinRateParam, self).__init__()\n",
    "        self.hidden_layer = nn.Linear(12, 5)\n",
    "        self.output_layer = nn.Linear(5, 1)\n",
    "        self.sigmoid_activation = nn.Sigmoid()\n",
    "\n",
    "    def forward(self, x):\n",
    "        x = self.hidden_layer(x)\n",
    "        x = self.output_layer(x)\n",
    "        x = self.sigmoid_activation(x)\n",
    "        return x\n",
    "\n",
    "\n",
    "class BiasParam(nn.Module):\n",
    "    def __init__(self):\n",
    "        super(BiasParam, self).__init__()\n",
    "        self.hidden_layer = nn.Linear(12, 5)\n",
    "        self.relu_activation = nn.ReLU()\n",
    "        self.output_layer = nn.Linear(5, 1)\n",
    "        self.elu_activation = nn.ELU()\n",
    "\n",
    "    def forward(self, x):\n",
    "        x = self.hidden_layer(x)\n",
    "        x = self.relu_activation(x)\n",
    "        x = self.output_layer(x)\n",
    "        x = self.elu_activation(x)\n",
    "        return x\n",
    "\n",
    "\n",
    "class SensitivityParam(nn.Module):\n",
    "    def __init__(self):\n",
    "        super(SensitivityParam, self).__init__()\n",
    "        self.hidden_layer = nn.Linear(12, 5)\n",
    "        self.relu_activation = nn.ReLU()\n",
    "        self.output_layer = nn.Linear(5, 1)\n",
    "\n",
    "    def forward(self, x):\n",
    "        x = self.hidden_layer(x)\n",
    "        x = self.relu_activation(x)\n",
    "        x = self.output_layer(x)\n",
    "        x = self.relu_activation(x)\n",
    "        return torch.exp(x) - 1\n",
    "\n",
    "\n",
    "class WinRateNetwork(nn.Module):\n",
    "    def __init__(self):\n",
    "        super(WinRateNetwork, self).__init__()\n",
    "        self.max_win_rate = MaxWinRateParam()\n",
    "        self.bias = BiasParam()\n",
    "        self.sensitivity = SensitivityParam()\n",
    "\n",
    "    def forward(self, features, price, train=False):\n",
    "        mul_term = torch.mul(self.sensitivity(features), price)\n",
    "        add_term = torch.add(self.bias(features), mul_term)\n",
    "        win_rate = self.max_win_rate(features) / (1 + torch.exp(add_term))\n",
    "        if train:\n",
    "            return win_rate\n",
    "        return (\n",
    "            win_rate,\n",
    "            self.max_win_rate(features),\n",
    "            self.bias(features),\n",
    "            self.sensitivity(features),\n",
    "        )"
   ]
  },
  {
   "cell_type": "code",
   "execution_count": 7,
   "id": "0b25b113",
   "metadata": {
    "execution": {
     "iopub.execute_input": "2024-11-10T04:36:47.272538Z",
     "iopub.status.busy": "2024-11-10T04:36:47.272131Z",
     "iopub.status.idle": "2024-11-10T04:36:56.174341Z",
     "shell.execute_reply": "2024-11-10T04:36:56.173189Z"
    },
    "papermill": {
     "duration": 8.910625,
     "end_time": "2024-11-10T04:36:56.177108",
     "exception": false,
     "start_time": "2024-11-10T04:36:47.266483",
     "status": "completed"
    },
    "tags": []
   },
   "outputs": [
    {
     "name": "stdout",
     "output_type": "stream",
     "text": [
      "Epoch: 1\n"
     ]
    }
   ],
   "source": [
    "# Training parameters\n",
    "n_epochs = 100\n",
    "batch_size = 256\n",
    "batches_per_epoch = len(features_train_tensor) // batch_size\n",
    "\n",
    "# Model settings\n",
    "model = WinRateNetwork()\n",
    "criterion = nn.BCELoss()\n",
    "optimizer = optim.Adam(model.parameters(), lr=0.0001)\n",
    "\n",
    "for epoch in range(n_epochs):\n",
    "    if epoch % 100 == 0:\n",
    "        print(f\"Epoch: {epoch + 1}\")\n",
    "    for i in range(batches_per_epoch):\n",
    "        start = i * batch_size\n",
    "        X_batch = features_train_tensor[start:(start + batch_size)]\n",
    "        price_batch = price_train_tensor[start:(start + batch_size)]\n",
    "        y_batch = y_train_tensor[start:(start + batch_size)]\n",
    "        # Forward pass\n",
    "        y_pred = model(X_batch, price_batch, train=True)\n",
    "        loss = criterion(y_pred, y_batch)\n",
    "        # Backward pass\n",
    "        optimizer.zero_grad()\n",
    "        loss.backward()\n",
    "        optimizer.step() # Update weights"
   ]
  },
  {
   "cell_type": "code",
   "execution_count": 8,
   "id": "3a7a682a",
   "metadata": {
    "execution": {
     "iopub.execute_input": "2024-11-10T04:36:56.188906Z",
     "iopub.status.busy": "2024-11-10T04:36:56.187821Z",
     "iopub.status.idle": "2024-11-10T04:36:56.824469Z",
     "shell.execute_reply": "2024-11-10T04:36:56.823406Z"
    },
    "papermill": {
     "duration": 0.644676,
     "end_time": "2024-11-10T04:36:56.826610",
     "exception": false,
     "start_time": "2024-11-10T04:36:56.181934",
     "status": "completed"
    },
    "tags": []
   },
   "outputs": [
    {
     "data": {
      "image/png": "[encoded data removed]",
      "text/plain": [
       "<Figure size 1200x500 with 2 Axes>"
      ]
     },
     "metadata": {},
     "output_type": "display_data"
    }
   ],
   "source": [
    "win_rate_test, max_win_rate_test, bias_test, sensitivity_test = model(features_test_tensor, price_test_tensor)\n",
    "\n",
    "pred_win_rate_test = win_rate_test.detach().numpy()\n",
    "pred_max_win_rate_test = max_win_rate_test.detach().numpy()\n",
    "pred_bias_test = bias_test.detach().numpy()\n",
    "pred_sensitivity_test = sensitivity_test.detach().numpy()\n",
    "\n",
    "pred_goods_test = pd.concat(\n",
    "    [\n",
    "        goods_type[goods_type.index.isin(X_test.index)].reset_index(), \n",
    "        pd.Series(pred_win_rate_test.ravel(), name=\"predicted_win_rate\"),\n",
    "        pd.Series(pred_sensitivity_test.ravel(), name=\"predicted_sensitivity\"),\n",
    "    ], \n",
    "    axis=1,\n",
    ")\n",
    "\n",
    "fig, ax = plt.subplots(1,2,figsize=(12,5))\n",
    "ax[0].hist(\n",
    "    pred_goods_test.loc[pred_goods_test[\"goods\"] == \"type_food\", \"predicted_win_rate\"], \n",
    "    bins=50, alpha=0.5, label=\"Food\"\n",
    ")\n",
    "ax[0].hist(\n",
    "    pred_goods_test.loc[pred_goods_test[\"goods\"] == \"type_eletronics\", \"predicted_win_rate\"], \n",
    "    bins=50, alpha=0.5, label=\"Electronics\"\n",
    ")\n",
    "ax[1].hist(\n",
    "    pred_goods_test.loc[pred_goods_test[\"goods\"] == \"type_food\", \"predicted_sensitivity\"], \n",
    "    bins=50, alpha=0.5, label=\"Food\"\n",
    ")\n",
    "ax[1].hist(\n",
    "    pred_goods_test.loc[pred_goods_test[\"goods\"] == \"type_eletronics\", \"predicted_sensitivity\"], \n",
    "    bins=50, alpha=0.5, label=\"Electronics\"\n",
    ")\n",
    "plt.show()"
   ]
  },
  {
   "cell_type": "code",
   "execution_count": 9,
   "id": "5ead40d8",
   "metadata": {
    "execution": {
     "iopub.execute_input": "2024-11-10T04:36:56.838318Z",
     "iopub.status.busy": "2024-11-10T04:36:56.837921Z",
     "iopub.status.idle": "2024-11-10T04:36:56.845187Z",
     "shell.execute_reply": "2024-11-10T04:36:56.844184Z"
    },
    "papermill": {
     "duration": 0.015651,
     "end_time": "2024-11-10T04:36:56.847322",
     "exception": false,
     "start_time": "2024-11-10T04:36:56.831671",
     "status": "completed"
    },
    "tags": []
   },
   "outputs": [
    {
     "data": {
      "text/plain": [
       "0.0"
      ]
     },
     "execution_count": 9,
     "metadata": {},
     "output_type": "execute_result"
    }
   ],
   "source": [
    "pred_sensitivity_test.mean()"
   ]
  },
  {
   "cell_type": "code",
   "execution_count": 10,
   "id": "6ca6e8f3",
   "metadata": {
    "execution": {
     "iopub.execute_input": "2024-11-10T04:36:56.861130Z",
     "iopub.status.busy": "2024-11-10T04:36:56.860065Z",
     "iopub.status.idle": "2024-11-10T04:36:56.867729Z",
     "shell.execute_reply": "2024-11-10T04:36:56.866743Z"
    },
    "papermill": {
     "duration": 0.017251,
     "end_time": "2024-11-10T04:36:56.869769",
     "exception": false,
     "start_time": "2024-11-10T04:36:56.852518",
     "status": "completed"
    },
    "tags": []
   },
   "outputs": [
    {
     "data": {
      "text/plain": [
       "0.8724"
      ]
     },
     "execution_count": 10,
     "metadata": {},
     "output_type": "execute_result"
    }
   ],
   "source": [
    "((pred_win_rate_test > 0.5).astype(int).ravel() == y_test.values).mean()"
   ]
  },
  {
   "cell_type": "code",
   "execution_count": 11,
   "id": "da4ee5da",
   "metadata": {
    "execution": {
     "iopub.execute_input": "2024-11-10T04:36:56.882408Z",
     "iopub.status.busy": "2024-11-10T04:36:56.881549Z",
     "iopub.status.idle": "2024-11-10T04:36:57.104501Z",
     "shell.execute_reply": "2024-11-10T04:36:57.103384Z"
    },
    "papermill": {
     "duration": 0.231697,
     "end_time": "2024-11-10T04:36:57.106819",
     "exception": false,
     "start_time": "2024-11-10T04:36:56.875122",
     "status": "completed"
    },
    "tags": []
   },
   "outputs": [
    {
     "data": {
      "image/png": "[encoded data removed]",
      "text/plain": [
       "<Figure size 640x480 with 1 Axes>"
      ]
     },
     "metadata": {},
     "output_type": "display_data"
    }
   ],
   "source": [
    "fpr, tpr, threshold = roc_curve(y_test_tensor, pred_win_rate_test)\n",
    "plt.title('Receiver Operating Characteristic')\n",
    "plt.plot(fpr, tpr, 'b', label = f\"AUC = {roc_auc_score(y_test_tensor, pred_win_rate_test):.3}\")\n",
    "plt.legend(loc = 'lower right')\n",
    "plt.plot([0, 1], [0, 1],'r--')\n",
    "plt.xlim([0, 1])\n",
    "plt.ylim([0, 1])\n",
    "plt.ylabel('True Positive Rate')\n",
    "plt.xlabel('False Positive Rate')\n",
    "plt.show()"
   ]
  },
  {
   "cell_type": "code",
   "execution_count": 12,
   "id": "e3db3828",
   "metadata": {
    "execution": {
     "iopub.execute_input": "2024-11-10T04:36:57.121497Z",
     "iopub.status.busy": "2024-11-10T04:36:57.120545Z",
     "iopub.status.idle": "2024-11-10T04:36:57.176334Z",
     "shell.execute_reply": "2024-11-10T04:36:57.175146Z"
    },
    "papermill": {
     "duration": 0.065815,
     "end_time": "2024-11-10T04:36:57.178691",
     "exception": false,
     "start_time": "2024-11-10T04:36:57.112876",
     "status": "completed"
    },
    "tags": []
   },
   "outputs": [
    {
     "data": {
      "text/html": [
       "<div>\n",
       "<style scoped>\n",
       "    .dataframe tbody tr th:only-of-type {\n",
       "        vertical-align: middle;\n",
       "    }\n",
       "\n",
       "    .dataframe tbody tr th {\n",
       "        vertical-align: top;\n",
       "    }\n",
       "\n",
       "    .dataframe thead th {\n",
       "        text-align: right;\n",
       "    }\n",
       "</style>\n",
       "<table border=\"1\" class=\"dataframe\">\n",
       "  <thead>\n",
       "    <tr style=\"text-align: right;\">\n",
       "      <th></th>\n",
       "      <th>past_spending</th>\n",
       "      <th>price</th>\n",
       "      <th>quantity</th>\n",
       "      <th>membership_flag</th>\n",
       "      <th>goods</th>\n",
       "      <th>brand</th>\n",
       "      <th>predicted_win_rate</th>\n",
       "      <th>max_win_rate_param</th>\n",
       "      <th>bias_param</th>\n",
       "      <th>sensitivity_param</th>\n",
       "    </tr>\n",
       "  </thead>\n",
       "  <tbody>\n",
       "    <tr>\n",
       "      <th>0</th>\n",
       "      <td>416.31</td>\n",
       "      <td>66.810374</td>\n",
       "      <td>6</td>\n",
       "      <td>1</td>\n",
       "      <td>type_food</td>\n",
       "      <td>tier_popular</td>\n",
       "      <td>0.181286</td>\n",
       "      <td>0.383868</td>\n",
       "      <td>0.111066</td>\n",
       "      <td>0.0</td>\n",
       "    </tr>\n",
       "    <tr>\n",
       "      <th>1</th>\n",
       "      <td>2024.93</td>\n",
       "      <td>103.789348</td>\n",
       "      <td>5</td>\n",
       "      <td>1</td>\n",
       "      <td>type_medicine</td>\n",
       "      <td>tier_highend</td>\n",
       "      <td>0.538373</td>\n",
       "      <td>0.837837</td>\n",
       "      <td>-0.586556</td>\n",
       "      <td>0.0</td>\n",
       "    </tr>\n",
       "    <tr>\n",
       "      <th>2</th>\n",
       "      <td>803.83</td>\n",
       "      <td>21.335858</td>\n",
       "      <td>6</td>\n",
       "      <td>0</td>\n",
       "      <td>type_kichenware</td>\n",
       "      <td>tier_cheap</td>\n",
       "      <td>0.377421</td>\n",
       "      <td>0.636318</td>\n",
       "      <td>-0.376929</td>\n",
       "      <td>0.0</td>\n",
       "    </tr>\n",
       "    <tr>\n",
       "      <th>3</th>\n",
       "      <td>2167.19</td>\n",
       "      <td>144.169497</td>\n",
       "      <td>1</td>\n",
       "      <td>1</td>\n",
       "      <td>type_medicine</td>\n",
       "      <td>tier_highend</td>\n",
       "      <td>0.259074</td>\n",
       "      <td>0.600339</td>\n",
       "      <td>0.275547</td>\n",
       "      <td>0.0</td>\n",
       "    </tr>\n",
       "    <tr>\n",
       "      <th>4</th>\n",
       "      <td>0.00</td>\n",
       "      <td>75.701281</td>\n",
       "      <td>10</td>\n",
       "      <td>0</td>\n",
       "      <td>type_kichenware</td>\n",
       "      <td>tier_popular</td>\n",
       "      <td>0.301314</td>\n",
       "      <td>0.476878</td>\n",
       "      <td>-0.540153</td>\n",
       "      <td>0.0</td>\n",
       "    </tr>\n",
       "  </tbody>\n",
       "</table>\n",
       "</div>"
      ],
      "text/plain": [
       "   past_spending       price  quantity  membership_flag            goods  \\\n",
       "0         416.31   66.810374         6                1        type_food   \n",
       "1        2024.93  103.789348         5                1    type_medicine   \n",
       "2         803.83   21.335858         6                0  type_kichenware   \n",
       "3        2167.19  144.169497         1                1    type_medicine   \n",
       "4           0.00   75.701281        10                0  type_kichenware   \n",
       "\n",
       "          brand  predicted_win_rate  max_win_rate_param  bias_param  \\\n",
       "0  tier_popular            0.181286            0.383868    0.111066   \n",
       "1  tier_highend            0.538373            0.837837   -0.586556   \n",
       "2    tier_cheap            0.377421            0.636318   -0.376929   \n",
       "3  tier_highend            0.259074            0.600339    0.275547   \n",
       "4  tier_popular            0.301314            0.476878   -0.540153   \n",
       "\n",
       "   sensitivity_param  \n",
       "0                0.0  \n",
       "1                0.0  \n",
       "2                0.0  \n",
       "3                0.0  \n",
       "4                0.0  "
      ]
     },
     "execution_count": 12,
     "metadata": {},
     "output_type": "execute_result"
    }
   ],
   "source": [
    "categorical_features_test = pd.concat(\n",
    "    [\n",
    "        pd.from_dummies(X_test[[x for x in training_data.columns if \"goods_type\" in x]], sep=\"_\"),\n",
    "        pd.from_dummies(X_test[[x for x in training_data.columns if \"brand_tier\" in x]], sep=\"_\"),\n",
    "    ],\n",
    "    axis=1,\n",
    ").reset_index()\n",
    "\n",
    "pred_test_params = pd.DataFrame({\n",
    "    \"predicted_win_rate\": pred_win_rate_test.ravel(), \n",
    "    \"max_win_rate_param\": pred_max_win_rate_test.ravel(),\n",
    "    \"bias_param\": pred_bias_test.ravel(),\n",
    "    \"sensitivity_param\": pred_sensitivity_test.ravel(),\n",
    "})\n",
    "\n",
    "pred_analysis = pd.concat(\n",
    "    [\n",
    "        X_test[[\"past_spending\", \"price\", \"quantity\", \"membership_flag\"]].reset_index(),\n",
    "        categorical_features_test,\n",
    "        pred_test_params,\n",
    "    ], \n",
    "    axis=1\n",
    ").drop(columns=\"index\")\n",
    "\n",
    "pred_analysis.head()"
   ]
  },
  {
   "cell_type": "code",
   "execution_count": 13,
   "id": "bfb604ae",
   "metadata": {
    "execution": {
     "iopub.execute_input": "2024-11-10T04:36:57.193176Z",
     "iopub.status.busy": "2024-11-10T04:36:57.192770Z",
     "iopub.status.idle": "2024-11-10T04:36:57.499364Z",
     "shell.execute_reply": "2024-11-10T04:36:57.498124Z"
    },
    "papermill": {
     "duration": 0.316565,
     "end_time": "2024-11-10T04:36:57.501656",
     "exception": false,
     "start_time": "2024-11-10T04:36:57.185091",
     "status": "completed"
    },
    "tags": []
   },
   "outputs": [
    {
     "data": {
      "image/png": "[encoded data removed]",
      "text/plain": [
       "<Figure size 640x480 with 1 Axes>"
      ]
     },
     "metadata": {},
     "output_type": "display_data"
    }
   ],
   "source": [
    "def price_response_function(params, price):\n",
    "    return params[0] / (1 + np.exp(params[1] + params[2] * price))\n",
    "\n",
    "def price_response_plot(feature):\n",
    "    avg_params_by_feature = pred_analysis.groupby(feature)[\n",
    "        [\"max_win_rate_param\", \"bias_param\", \"sensitivity_param\"]\n",
    "    ].mean()\n",
    "    \n",
    "    for value in avg_params_by_feature.index:\n",
    "        avg_params = avg_params_by_feature.loc[value].values\n",
    "        prices = np.linspace(0, 1, 101)\n",
    "        responses = [price_response_function(avg_params, x) for x in prices]\n",
    "        plt.plot(responses, label=value)\n",
    "    \n",
    "    plt.legend()\n",
    "    plt.grid()\n",
    "\n",
    "\n",
    "price_response_plot(\"goods\")"
   ]
  },
  {
   "cell_type": "code",
   "execution_count": 14,
   "id": "e7aafa70",
   "metadata": {
    "execution": {
     "iopub.execute_input": "2024-11-10T04:36:57.517622Z",
     "iopub.status.busy": "2024-11-10T04:36:57.516420Z",
     "iopub.status.idle": "2024-11-10T04:36:57.979970Z",
     "shell.execute_reply": "2024-11-10T04:36:57.978714Z"
    },
    "papermill": {
     "duration": 0.47375,
     "end_time": "2024-11-10T04:36:57.982196",
     "exception": false,
     "start_time": "2024-11-10T04:36:57.508446",
     "status": "completed"
    },
    "tags": []
   },
   "outputs": [
    {
     "data": {
      "image/png": "[encoded data removed]",
      "text/plain": [
       "<Figure size 640x480 with 1 Axes>"
      ]
     },
     "metadata": {},
     "output_type": "display_data"
    }
   ],
   "source": [
    "price_response_plot(\"brand\")"
   ]
  },
  {
   "cell_type": "code",
   "execution_count": 15,
   "id": "f7e7d6da",
   "metadata": {
    "execution": {
     "iopub.execute_input": "2024-11-10T04:36:57.999409Z",
     "iopub.status.busy": "2024-11-10T04:36:57.998439Z",
     "iopub.status.idle": "2024-11-10T04:36:58.235786Z",
     "shell.execute_reply": "2024-11-10T04:36:58.234593Z"
    },
    "papermill": {
     "duration": 0.248748,
     "end_time": "2024-11-10T04:36:58.238364",
     "exception": false,
     "start_time": "2024-11-10T04:36:57.989616",
     "status": "completed"
    },
    "tags": []
   },
   "outputs": [
    {
     "data": {
      "image/png": "[encoded data removed]",
      "text/plain": [
       "<Figure size 640x480 with 1 Axes>"
      ]
     },
     "metadata": {},
     "output_type": "display_data"
    }
   ],
   "source": [
    "price_response_plot(\"membership_flag\")"
   ]
  }
 ],
 "metadata": {
  "kaggle": {
   "accelerator": "none",
   "dataSources": [
    {
     "datasetId": 6033524,
     "sourceId": 9836139,
     "sourceType": "datasetVersion"
    }
   ],
   "dockerImageVersionId": 30786,
   "isGpuEnabled": false,
   "isInternetEnabled": true,
   "language": "python",
   "sourceType": "notebook"
  },
  "kernelspec": {
   "display_name": "Python 3",
   "language": "python",
   "name": "python3"
  },
  "language_info": {
   "codemirror_mode": {
    "name": "ipython",
    "version": 3
   },
   "file_extension": ".py",
   "mimetype": "text/x-python",
   "name": "python",
   "nbconvert_exporter": "python",
   "pygments_lexer": "ipython3",
   "version": "3.10.14"
  },
  "papermill": {
   "default_parameters": {},
   "duration": 20.322395,
   "end_time": "2024-11-10T04:36:59.469035",
   "environment_variables": {},
   "exception": null,
   "input_path": "__notebook__.ipynb",
   "output_path": "__notebook__.ipynb",
   "parameters": {},
   "start_time": "2024-11-10T04:36:39.146640",
   "version": "2.6.0"
  }
 },
 "nbformat": 4,
 "nbformat_minor": 5
}
