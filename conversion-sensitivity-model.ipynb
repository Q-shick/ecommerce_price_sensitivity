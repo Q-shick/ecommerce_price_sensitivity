{
 "cells": [
  {
   "cell_type": "code",
   "execution_count": 1,
   "id": "a87d2634",
   "metadata": {
    "_cell_guid": "b1076dfc-b9ad-4769-8c92-a6c4dae69d19",
    "_uuid": "8f2839f25d086af736a60e9eeb907d3b93b6e0e5",
    "execution": {
     "iopub.execute_input": "2024-11-08T20:51:11.013601Z",
     "iopub.status.busy": "2024-11-08T20:51:11.012230Z",
     "iopub.status.idle": "2024-11-08T20:51:16.598344Z",
     "shell.execute_reply": "2024-11-08T20:51:16.597070Z"
    },
    "papermill": {
     "duration": 5.595387,
     "end_time": "2024-11-08T20:51:16.601105",
     "exception": false,
     "start_time": "2024-11-08T20:51:11.005718",
     "status": "completed"
    },
    "tags": []
   },
   "outputs": [
    {
     "name": "stdout",
     "output_type": "stream",
     "text": [
      "/kaggle/input/e-commerce-synthetic-dataset/ecommerce_synthetic_data.csv\n"
     ]
    }
   ],
   "source": [
    "import warnings\n",
    "warnings.filterwarnings(\"ignore\")\n",
    "\n",
    "import os\n",
    "for dirname, _, filenames in os.walk('/kaggle/input'):\n",
    "    for filename in filenames:\n",
    "        print(os.path.join(dirname, filename))\n",
    "\n",
    "import numpy as np\n",
    "import pandas as pd\n",
    "import matplotlib.pyplot as plt\n",
    "\n",
    "from sklearn.preprocessing import StandardScaler\n",
    "from sklearn.model_selection import train_test_split\n",
    "from sklearn.metrics import roc_auc_score, roc_curve\n",
    "\n",
    "import torch\n",
    "import torch.nn as nn\n",
    "import torch.optim as optim"
   ]
  },
  {
   "cell_type": "code",
   "execution_count": 2,
   "id": "a0553d36",
   "metadata": {
    "execution": {
     "iopub.execute_input": "2024-11-08T20:51:16.611258Z",
     "iopub.status.busy": "2024-11-08T20:51:16.609866Z",
     "iopub.status.idle": "2024-11-08T20:51:16.699798Z",
     "shell.execute_reply": "2024-11-08T20:51:16.698404Z"
    },
    "papermill": {
     "duration": 0.097455,
     "end_time": "2024-11-08T20:51:16.702377",
     "exception": false,
     "start_time": "2024-11-08T20:51:16.604922",
     "status": "completed"
    },
    "tags": []
   },
   "outputs": [
    {
     "data": {
      "text/html": [
       "<div>\n",
       "<style scoped>\n",
       "    .dataframe tbody tr th:only-of-type {\n",
       "        vertical-align: middle;\n",
       "    }\n",
       "\n",
       "    .dataframe tbody tr th {\n",
       "        vertical-align: top;\n",
       "    }\n",
       "\n",
       "    .dataframe thead th {\n",
       "        text-align: right;\n",
       "    }\n",
       "</style>\n",
       "<table border=\"1\" class=\"dataframe\">\n",
       "  <thead>\n",
       "    <tr style=\"text-align: right;\">\n",
       "      <th></th>\n",
       "      <th>ordered</th>\n",
       "      <th>past_spending</th>\n",
       "      <th>price</th>\n",
       "      <th>quantity</th>\n",
       "      <th>membership_flag</th>\n",
       "      <th>goods_type_clothing</th>\n",
       "      <th>goods_type_eletronics</th>\n",
       "      <th>goods_type_food</th>\n",
       "      <th>goods_type_furniture</th>\n",
       "      <th>goods_type_kichenware</th>\n",
       "      <th>goods_type_medicine</th>\n",
       "      <th>brand_tier_cheap</th>\n",
       "      <th>brand_tier_highend</th>\n",
       "      <th>brand_tier_popular</th>\n",
       "    </tr>\n",
       "  </thead>\n",
       "  <tbody>\n",
       "    <tr>\n",
       "      <th>0</th>\n",
       "      <td>0</td>\n",
       "      <td>1023.73</td>\n",
       "      <td>75.934756</td>\n",
       "      <td>1</td>\n",
       "      <td>0</td>\n",
       "      <td>1</td>\n",
       "      <td>0</td>\n",
       "      <td>0</td>\n",
       "      <td>0</td>\n",
       "      <td>0</td>\n",
       "      <td>0</td>\n",
       "      <td>1</td>\n",
       "      <td>0</td>\n",
       "      <td>0</td>\n",
       "    </tr>\n",
       "    <tr>\n",
       "      <th>1</th>\n",
       "      <td>0</td>\n",
       "      <td>0.00</td>\n",
       "      <td>278.957661</td>\n",
       "      <td>2</td>\n",
       "      <td>0</td>\n",
       "      <td>0</td>\n",
       "      <td>1</td>\n",
       "      <td>0</td>\n",
       "      <td>0</td>\n",
       "      <td>0</td>\n",
       "      <td>0</td>\n",
       "      <td>0</td>\n",
       "      <td>1</td>\n",
       "      <td>0</td>\n",
       "    </tr>\n",
       "    <tr>\n",
       "      <th>2</th>\n",
       "      <td>0</td>\n",
       "      <td>1873.31</td>\n",
       "      <td>7.383762</td>\n",
       "      <td>5</td>\n",
       "      <td>0</td>\n",
       "      <td>1</td>\n",
       "      <td>0</td>\n",
       "      <td>0</td>\n",
       "      <td>0</td>\n",
       "      <td>0</td>\n",
       "      <td>0</td>\n",
       "      <td>0</td>\n",
       "      <td>1</td>\n",
       "      <td>0</td>\n",
       "    </tr>\n",
       "    <tr>\n",
       "      <th>3</th>\n",
       "      <td>0</td>\n",
       "      <td>592.82</td>\n",
       "      <td>72.419637</td>\n",
       "      <td>1</td>\n",
       "      <td>0</td>\n",
       "      <td>0</td>\n",
       "      <td>1</td>\n",
       "      <td>0</td>\n",
       "      <td>0</td>\n",
       "      <td>0</td>\n",
       "      <td>0</td>\n",
       "      <td>0</td>\n",
       "      <td>0</td>\n",
       "      <td>1</td>\n",
       "    </tr>\n",
       "    <tr>\n",
       "      <th>4</th>\n",
       "      <td>0</td>\n",
       "      <td>796.50</td>\n",
       "      <td>350.501563</td>\n",
       "      <td>1</td>\n",
       "      <td>1</td>\n",
       "      <td>0</td>\n",
       "      <td>0</td>\n",
       "      <td>0</td>\n",
       "      <td>1</td>\n",
       "      <td>0</td>\n",
       "      <td>0</td>\n",
       "      <td>0</td>\n",
       "      <td>0</td>\n",
       "      <td>1</td>\n",
       "    </tr>\n",
       "  </tbody>\n",
       "</table>\n",
       "</div>"
      ],
      "text/plain": [
       "   ordered  past_spending       price  quantity  membership_flag  \\\n",
       "0        0        1023.73   75.934756         1                0   \n",
       "1        0           0.00  278.957661         2                0   \n",
       "2        0        1873.31    7.383762         5                0   \n",
       "3        0         592.82   72.419637         1                0   \n",
       "4        0         796.50  350.501563         1                1   \n",
       "\n",
       "   goods_type_clothing  goods_type_eletronics  goods_type_food  \\\n",
       "0                    1                      0                0   \n",
       "1                    0                      1                0   \n",
       "2                    1                      0                0   \n",
       "3                    0                      1                0   \n",
       "4                    0                      0                0   \n",
       "\n",
       "   goods_type_furniture  goods_type_kichenware  goods_type_medicine  \\\n",
       "0                     0                      0                    0   \n",
       "1                     0                      0                    0   \n",
       "2                     0                      0                    0   \n",
       "3                     0                      0                    0   \n",
       "4                     1                      0                    0   \n",
       "\n",
       "   brand_tier_cheap  brand_tier_highend  brand_tier_popular  \n",
       "0                 1                   0                   0  \n",
       "1                 0                   1                   0  \n",
       "2                 0                   1                   0  \n",
       "3                 0                   0                   1  \n",
       "4                 0                   0                   1  "
      ]
     },
     "execution_count": 2,
     "metadata": {},
     "output_type": "execute_result"
    }
   ],
   "source": [
    "training_data = pd.read_csv(\"/kaggle/input/e-commerce-synthetic-dataset/ecommerce_synthetic_data.csv\")\n",
    "training_data.head()"
   ]
  },
  {
   "cell_type": "code",
   "execution_count": 3,
   "id": "6b206acb",
   "metadata": {
    "execution": {
     "iopub.execute_input": "2024-11-08T20:51:16.712312Z",
     "iopub.status.busy": "2024-11-08T20:51:16.711437Z",
     "iopub.status.idle": "2024-11-08T20:51:16.855710Z",
     "shell.execute_reply": "2024-11-08T20:51:16.854510Z"
    },
    "papermill": {
     "duration": 0.152136,
     "end_time": "2024-11-08T20:51:16.858441",
     "exception": false,
     "start_time": "2024-11-08T20:51:16.706305",
     "status": "completed"
    },
    "tags": []
   },
   "outputs": [],
   "source": [
    "# Good's type column from one-hot encoded columns for stratification\n",
    "goods_type = pd.from_dummies(\n",
    "    training_data[[x for x in training_data.columns if \"goods_type\" in x]], \n",
    "    sep=\"_\",\n",
    ")\n",
    "\n",
    "# Split dataset into train and test\n",
    "X_train, X_test, y_train, y_test = train_test_split(\n",
    "    training_data[[x for x in training_data.columns if x != \"ordered\"]], \n",
    "    training_data[\"ordered\"], \n",
    "    test_size=0.5, \n",
    "    random_state=2024, \n",
    "    stratify=goods_type,\n",
    ")\n",
    "\n",
    "# Features in training set\n",
    "features_train = X_train[[x for x in X_train.columns if x != \"price\"]]\n",
    "features_scaler = StandardScaler().fit(features_train[[\"past_spending\", \"quantity\"]])\n",
    "features_train[[\"past_spending\", \"quantity\"]] = features_scaler.transform(\n",
    "    features_train[[\"past_spending\", \"quantity\"]]\n",
    ")\n",
    "\n",
    "# Features in testing set\n",
    "features_test = X_test[[x for x in X_test.columns if x != \"price\"]]\n",
    "features_test[[\"past_spending\", \"quantity\"]] = features_scaler.transform(\n",
    "    features_test[[\"past_spending\", \"quantity\"]]\n",
    ")"
   ]
  },
  {
   "cell_type": "code",
   "execution_count": 4,
   "id": "c2c808a4",
   "metadata": {
    "execution": {
     "iopub.execute_input": "2024-11-08T20:51:16.868868Z",
     "iopub.status.busy": "2024-11-08T20:51:16.867718Z",
     "iopub.status.idle": "2024-11-08T20:51:16.958091Z",
     "shell.execute_reply": "2024-11-08T20:51:16.956807Z"
    },
    "papermill": {
     "duration": 0.098218,
     "end_time": "2024-11-08T20:51:16.960632",
     "exception": false,
     "start_time": "2024-11-08T20:51:16.862414",
     "status": "completed"
    },
    "tags": []
   },
   "outputs": [
    {
     "name": "stdout",
     "output_type": "stream",
     "text": [
      "Scaled prices evenly distributed across good's type\n"
     ]
    },
    {
     "data": {
      "text/html": [
       "<div>\n",
       "<style scoped>\n",
       "    .dataframe tbody tr th:only-of-type {\n",
       "        vertical-align: middle;\n",
       "    }\n",
       "\n",
       "    .dataframe tbody tr th {\n",
       "        vertical-align: top;\n",
       "    }\n",
       "\n",
       "    .dataframe thead th {\n",
       "        text-align: right;\n",
       "    }\n",
       "</style>\n",
       "<table border=\"1\" class=\"dataframe\">\n",
       "  <thead>\n",
       "    <tr style=\"text-align: right;\">\n",
       "      <th></th>\n",
       "      <th>count</th>\n",
       "      <th>mean</th>\n",
       "      <th>std</th>\n",
       "      <th>min</th>\n",
       "      <th>25%</th>\n",
       "      <th>50%</th>\n",
       "      <th>75%</th>\n",
       "      <th>max</th>\n",
       "    </tr>\n",
       "    <tr>\n",
       "      <th>goods</th>\n",
       "      <th></th>\n",
       "      <th></th>\n",
       "      <th></th>\n",
       "      <th></th>\n",
       "      <th></th>\n",
       "      <th></th>\n",
       "      <th></th>\n",
       "      <th></th>\n",
       "    </tr>\n",
       "  </thead>\n",
       "  <tbody>\n",
       "    <tr>\n",
       "      <th>type_clothing</th>\n",
       "      <td>1675.0</td>\n",
       "      <td>0.014</td>\n",
       "      <td>0.996</td>\n",
       "      <td>-1.238</td>\n",
       "      <td>-0.745</td>\n",
       "      <td>-0.264</td>\n",
       "      <td>0.544</td>\n",
       "      <td>3.478</td>\n",
       "    </tr>\n",
       "    <tr>\n",
       "      <th>type_eletronics</th>\n",
       "      <td>1652.0</td>\n",
       "      <td>-0.029</td>\n",
       "      <td>1.024</td>\n",
       "      <td>-1.301</td>\n",
       "      <td>-0.826</td>\n",
       "      <td>-0.324</td>\n",
       "      <td>0.570</td>\n",
       "      <td>3.499</td>\n",
       "    </tr>\n",
       "    <tr>\n",
       "      <th>type_food</th>\n",
       "      <td>1628.0</td>\n",
       "      <td>0.032</td>\n",
       "      <td>1.028</td>\n",
       "      <td>-1.252</td>\n",
       "      <td>-0.756</td>\n",
       "      <td>-0.273</td>\n",
       "      <td>0.606</td>\n",
       "      <td>3.339</td>\n",
       "    </tr>\n",
       "    <tr>\n",
       "      <th>type_furniture</th>\n",
       "      <td>1660.0</td>\n",
       "      <td>0.021</td>\n",
       "      <td>1.072</td>\n",
       "      <td>-1.283</td>\n",
       "      <td>-0.773</td>\n",
       "      <td>-0.286</td>\n",
       "      <td>0.543</td>\n",
       "      <td>3.513</td>\n",
       "    </tr>\n",
       "    <tr>\n",
       "      <th>type_kichenware</th>\n",
       "      <td>1732.0</td>\n",
       "      <td>-0.005</td>\n",
       "      <td>0.985</td>\n",
       "      <td>-1.248</td>\n",
       "      <td>-0.767</td>\n",
       "      <td>-0.279</td>\n",
       "      <td>0.550</td>\n",
       "      <td>3.297</td>\n",
       "    </tr>\n",
       "    <tr>\n",
       "      <th>type_medicine</th>\n",
       "      <td>1653.0</td>\n",
       "      <td>-0.050</td>\n",
       "      <td>0.981</td>\n",
       "      <td>-1.243</td>\n",
       "      <td>-0.799</td>\n",
       "      <td>-0.347</td>\n",
       "      <td>0.489</td>\n",
       "      <td>3.472</td>\n",
       "    </tr>\n",
       "  </tbody>\n",
       "</table>\n",
       "</div>"
      ],
      "text/plain": [
       "                  count   mean    std    min    25%    50%    75%    max\n",
       "goods                                                                   \n",
       "type_clothing    1675.0  0.014  0.996 -1.238 -0.745 -0.264  0.544  3.478\n",
       "type_eletronics  1652.0 -0.029  1.024 -1.301 -0.826 -0.324  0.570  3.499\n",
       "type_food        1628.0  0.032  1.028 -1.252 -0.756 -0.273  0.606  3.339\n",
       "type_furniture   1660.0  0.021  1.072 -1.283 -0.773 -0.286  0.543  3.513\n",
       "type_kichenware  1732.0 -0.005  0.985 -1.248 -0.767 -0.279  0.550  3.297\n",
       "type_medicine    1653.0 -0.050  0.981 -1.243 -0.799 -0.347  0.489  3.472"
      ]
     },
     "execution_count": 4,
     "metadata": {},
     "output_type": "execute_result"
    }
   ],
   "source": [
    "price_with_goods_type = pd.concat([training_data[\"price\"], goods_type], axis=1)\n",
    "price_train = price_with_goods_type[price_with_goods_type.index.isin(X_train.index)]\n",
    "price_test = price_with_goods_type[price_with_goods_type.index.isin(X_test.index)]\n",
    "\n",
    "for x in price_with_goods_type[\"goods\"].unique():\n",
    "    price_train_scale = price_train.loc[price_train[\"goods\"] == x, \"price\"].values.reshape(-1,1)\n",
    "    price_test_scale = price_test.loc[price_test[\"goods\"] == x, \"price\"].values.reshape(-1,1)\n",
    "    # Scale with training prices\n",
    "    price_scaler = StandardScaler().fit(price_train_scale)\n",
    "    price_train.loc[price_train[\"goods\"] == x, \"price\"] = price_scaler.transform(price_train_scale)\n",
    "    price_test.loc[price_test[\"goods\"] == x, \"price\"] = price_scaler.transform(price_test_scale)\n",
    "\n",
    "print(\"Scaled prices evenly distributed across good's type\")\n",
    "price_test.groupby(\"goods\")[\"price\"].describe().round(3)"
   ]
  },
  {
   "cell_type": "code",
   "execution_count": 5,
   "id": "584e4d14",
   "metadata": {
    "execution": {
     "iopub.execute_input": "2024-11-08T20:51:16.970891Z",
     "iopub.status.busy": "2024-11-08T20:51:16.970441Z",
     "iopub.status.idle": "2024-11-08T20:51:16.975834Z",
     "shell.execute_reply": "2024-11-08T20:51:16.974604Z"
    },
    "papermill": {
     "duration": 0.013359,
     "end_time": "2024-11-08T20:51:16.978252",
     "exception": false,
     "start_time": "2024-11-08T20:51:16.964893",
     "status": "completed"
    },
    "tags": []
   },
   "outputs": [],
   "source": [
    "# # Features for model training except for price feature\n",
    "# features = training_data[[x for x in training_data.columns if x not in [\"ordered\", \"price\"]]]\n",
    "# features[[\"past_spending\", \"quantity\"]] = StandardScaler().fit_transform(\n",
    "#     features[[\"past_spending\", \"quantity\"]]\n",
    "# ) # Continuous features\n",
    "\n",
    "# # Scale prices by good's type\n",
    "# price_with_goods_type = pd.concat(\n",
    "#     [\n",
    "#         training_data[\"price\"],\n",
    "#         pd.from_dummies(training_data[[x for x in training_data.columns if \"goods_type\" in x]], sep=\"_\"),\n",
    "#     ], \n",
    "#     axis=1,\n",
    "# )\n",
    "# prices = price_with_goods_type.groupby(\"goods\")[\"price\"].transform(\n",
    "#     lambda x: StandardScaler().fit_transform(x.values[:,np.newaxis]).ravel()\n",
    "# ).values.reshape(-1,1)\n",
    "\n",
    "# # Averge price by good's type\n",
    "# price_with_goods_type.groupby(\"goods\").mean().reset_index().round(2)"
   ]
  },
  {
   "cell_type": "code",
   "execution_count": 6,
   "id": "683b3b2a",
   "metadata": {
    "execution": {
     "iopub.execute_input": "2024-11-08T20:51:16.989313Z",
     "iopub.status.busy": "2024-11-08T20:51:16.988832Z",
     "iopub.status.idle": "2024-11-08T20:51:17.029807Z",
     "shell.execute_reply": "2024-11-08T20:51:17.028701Z"
    },
    "papermill": {
     "duration": 0.049373,
     "end_time": "2024-11-08T20:51:17.032527",
     "exception": false,
     "start_time": "2024-11-08T20:51:16.983154",
     "status": "completed"
    },
    "tags": []
   },
   "outputs": [],
   "source": [
    "# Convert dataframe and numpy array into tensors\n",
    "features_train_tensor = torch.tensor(features_train.values, dtype=torch.float32)\n",
    "price_train_tensor = torch.tensor(price_train[\"price\"].values.reshape(-1,1), dtype=torch.float32)\n",
    "y_train_tensor = torch.tensor(y_train.values.reshape(-1,1), dtype=torch.float32)\n",
    "\n",
    "features_test_tensor = torch.tensor(features_test.values, dtype=torch.float32)\n",
    "price_test_tensor = torch.tensor(price_test[\"price\"].values.reshape(-1,1), dtype=torch.float32)\n",
    "y_test_tensor = torch.tensor(y_test.values.reshape(-1,1), dtype=torch.float32)"
   ]
  },
  {
   "cell_type": "code",
   "execution_count": 7,
   "id": "5e4bed2c",
   "metadata": {
    "execution": {
     "iopub.execute_input": "2024-11-08T20:51:17.043040Z",
     "iopub.status.busy": "2024-11-08T20:51:17.042569Z",
     "iopub.status.idle": "2024-11-08T20:51:17.058568Z",
     "shell.execute_reply": "2024-11-08T20:51:17.057195Z"
    },
    "papermill": {
     "duration": 0.024627,
     "end_time": "2024-11-08T20:51:17.061537",
     "exception": false,
     "start_time": "2024-11-08T20:51:17.036910",
     "status": "completed"
    },
    "tags": []
   },
   "outputs": [],
   "source": [
    "class MaxWinRateParam(nn.Module):\n",
    "    def __init__(self):\n",
    "        super(MaxWinRateParam, self).__init__()\n",
    "        self.hidden_layer = nn.Linear(12, 5)\n",
    "        self.output_layer = nn.Linear(5, 1)\n",
    "        self.sigmoid_activation = nn.Sigmoid()\n",
    "\n",
    "    def forward(self, x):\n",
    "        x = self.hidden_layer(x)\n",
    "        x = self.output_layer(x)\n",
    "        x = self.sigmoid_activation(x)\n",
    "        return x\n",
    "\n",
    "\n",
    "class BiasParam(nn.Module):\n",
    "    def __init__(self):\n",
    "        super(BiasParam, self).__init__()\n",
    "        self.hidden_layer = nn.Linear(12, 5)\n",
    "        self.relu_activation = nn.ReLU()\n",
    "        self.output_layer = nn.Linear(5, 1)\n",
    "        self.elu_activation = nn.ELU()\n",
    "\n",
    "    def forward(self, x):\n",
    "        x = self.hidden_layer(x)\n",
    "        x = self.relu_activation(x)\n",
    "        x = self.output_layer(x)\n",
    "        x = self.elu_activation(x)\n",
    "        return x\n",
    "\n",
    "\n",
    "class SensitivityParam(nn.Module):\n",
    "    def __init__(self):\n",
    "        super(SensitivityParam, self).__init__()\n",
    "        self.hidden_layer = nn.Linear(12, 5)\n",
    "        self.relu_activation = nn.ReLU()\n",
    "        self.output_layer = nn.Linear(5, 1)\n",
    "\n",
    "    def forward(self, x):\n",
    "        x = self.hidden_layer(x)\n",
    "        x = self.relu_activation(x)\n",
    "        x = self.output_layer(x)\n",
    "        x = self.relu_activation(x)\n",
    "        return x\n",
    "\n",
    "\n",
    "class WinRateNetwork(nn.Module):\n",
    "    def __init__(self):\n",
    "        super(WinRateNetwork, self).__init__()\n",
    "        self.max_win_rate = MaxWinRateParam()\n",
    "        self.bias = BiasParam()\n",
    "        self.sensitivity = SensitivityParam()\n",
    "\n",
    "    def forward(self, features, price, train=False):\n",
    "        mul_term = torch.mul(self.sensitivity(features), price)\n",
    "        add_term = torch.add(self.bias(features), mul_term)\n",
    "        win_rate = self.max_win_rate(features) / (1 + torch.exp(add_term))\n",
    "        if train:\n",
    "            return win_rate\n",
    "        return (\n",
    "            win_rate,\n",
    "            self.max_win_rate(features),\n",
    "            self.bias(features),\n",
    "            self.sensitivity(features),\n",
    "        )"
   ]
  },
  {
   "cell_type": "code",
   "execution_count": 8,
   "id": "ccad1f2b",
   "metadata": {
    "execution": {
     "iopub.execute_input": "2024-11-08T20:51:17.072696Z",
     "iopub.status.busy": "2024-11-08T20:51:17.072295Z",
     "iopub.status.idle": "2024-11-08T20:51:58.517619Z",
     "shell.execute_reply": "2024-11-08T20:51:58.516134Z"
    },
    "papermill": {
     "duration": 41.455113,
     "end_time": "2024-11-08T20:51:58.521230",
     "exception": false,
     "start_time": "2024-11-08T20:51:17.066117",
     "status": "completed"
    },
    "tags": []
   },
   "outputs": [
    {
     "name": "stdout",
     "output_type": "stream",
     "text": [
      "Epoch: 1\n",
      "Epoch: 101\n",
      "Epoch: 201\n",
      "Epoch: 301\n",
      "Epoch: 401\n"
     ]
    }
   ],
   "source": [
    "# Training parameters\n",
    "n_epochs = 500\n",
    "batch_size = 256\n",
    "batches_per_epoch = len(features_train_tensor) // batch_size\n",
    "\n",
    "# Model settings\n",
    "model = WinRateNetwork()\n",
    "criterion = nn.BCELoss()\n",
    "optimizer = optim.Adam(model.parameters(), lr=0.0001)\n",
    "\n",
    "for epoch in range(n_epochs):\n",
    "    if epoch % 100 == 0:\n",
    "        print(f\"Epoch: {epoch + 1}\")\n",
    "    for i in range(batches_per_epoch):\n",
    "        start = i * batch_size\n",
    "        X_batch = features_train_tensor[start:(start + batch_size)]\n",
    "        price_batch = price_train_tensor[start:(start + batch_size)]\n",
    "        y_batch = y_train_tensor[start:(start + batch_size)]\n",
    "        # Forward pass\n",
    "        y_pred = model(X_batch, price_batch, train=True)\n",
    "        loss = criterion(y_pred, y_batch)\n",
    "        # Backward pass\n",
    "        optimizer.zero_grad()\n",
    "        loss.backward()\n",
    "        optimizer.step() # Update weights"
   ]
  },
  {
   "cell_type": "code",
   "execution_count": 9,
   "id": "e997468d",
   "metadata": {
    "execution": {
     "iopub.execute_input": "2024-11-08T20:51:58.538872Z",
     "iopub.status.busy": "2024-11-08T20:51:58.537541Z",
     "iopub.status.idle": "2024-11-08T20:51:59.315363Z",
     "shell.execute_reply": "2024-11-08T20:51:59.313923Z"
    },
    "papermill": {
     "duration": 0.789506,
     "end_time": "2024-11-08T20:51:59.317922",
     "exception": false,
     "start_time": "2024-11-08T20:51:58.528416",
     "status": "completed"
    },
    "tags": []
   },
   "outputs": [
    {
     "data": {
      "image/png": "[encoded data removed]",
      "text/plain": [
       "<Figure size 1200x500 with 2 Axes>"
      ]
     },
     "metadata": {},
     "output_type": "display_data"
    }
   ],
   "source": [
    "win_rate_test, max_win_rate_test, bias_test, sensitivity_test = model(features_test_tensor, price_test_tensor)\n",
    "\n",
    "pred_win_rate_test = win_rate_test.detach().numpy()\n",
    "pred_max_win_rate_test = max_win_rate_test.detach().numpy()\n",
    "pred_bias_test = bias_test.detach().numpy()\n",
    "pred_sensitivity_test = sensitivity_test.detach().numpy()\n",
    "\n",
    "pred_goods_test = pd.concat(\n",
    "    [\n",
    "        goods_type[goods_type.index.isin(X_test.index)].reset_index(), \n",
    "        pd.Series(pred_win_rate_test.ravel(), name=\"predicted_win_rate\"),\n",
    "        pd.Series(pred_sensitivity_test.ravel(), name=\"predicted_sensitivity\"),\n",
    "    ], \n",
    "    axis=1,\n",
    ")\n",
    "\n",
    "fig, ax = plt.subplots(1,2,figsize=(12,5))\n",
    "ax[0].hist(\n",
    "    pred_goods_test.loc[pred_goods_test[\"goods\"] == \"type_food\", \"predicted_win_rate\"], \n",
    "    bins=50, alpha=0.5, label=\"Food\"\n",
    ")\n",
    "ax[0].hist(\n",
    "    pred_goods_test.loc[pred_goods_test[\"goods\"] == \"type_eletronics\", \"predicted_win_rate\"], \n",
    "    bins=50, alpha=0.5, label=\"Electronics\"\n",
    ")\n",
    "ax[1].hist(\n",
    "    pred_goods_test.loc[pred_goods_test[\"goods\"] == \"type_food\", \"predicted_sensitivity\"], \n",
    "    bins=50, alpha=0.5, label=\"Food\"\n",
    ")\n",
    "ax[1].hist(\n",
    "    pred_goods_test.loc[pred_goods_test[\"goods\"] == \"type_eletronics\", \"predicted_sensitivity\"], \n",
    "    bins=50, alpha=0.5, label=\"Electronics\"\n",
    ")\n",
    "plt.show()"
   ]
  },
  {
   "cell_type": "code",
   "execution_count": 10,
   "id": "888b5991",
   "metadata": {
    "execution": {
     "iopub.execute_input": "2024-11-08T20:51:59.331047Z",
     "iopub.status.busy": "2024-11-08T20:51:59.329904Z",
     "iopub.status.idle": "2024-11-08T20:51:59.338684Z",
     "shell.execute_reply": "2024-11-08T20:51:59.337401Z"
    },
    "papermill": {
     "duration": 0.017964,
     "end_time": "2024-11-08T20:51:59.341206",
     "exception": false,
     "start_time": "2024-11-08T20:51:59.323242",
     "status": "completed"
    },
    "tags": []
   },
   "outputs": [
    {
     "data": {
      "text/plain": [
       "0.0"
      ]
     },
     "execution_count": 10,
     "metadata": {},
     "output_type": "execute_result"
    }
   ],
   "source": [
    "pred_sensitivity_test.mean()"
   ]
  },
  {
   "cell_type": "code",
   "execution_count": 11,
   "id": "529336bf",
   "metadata": {
    "execution": {
     "iopub.execute_input": "2024-11-08T20:51:59.354972Z",
     "iopub.status.busy": "2024-11-08T20:51:59.354456Z",
     "iopub.status.idle": "2024-11-08T20:51:59.363306Z",
     "shell.execute_reply": "2024-11-08T20:51:59.362036Z"
    },
    "papermill": {
     "duration": 0.018129,
     "end_time": "2024-11-08T20:51:59.365828",
     "exception": false,
     "start_time": "2024-11-08T20:51:59.347699",
     "status": "completed"
    },
    "tags": []
   },
   "outputs": [
    {
     "data": {
      "text/plain": [
       "0.9004"
      ]
     },
     "execution_count": 11,
     "metadata": {},
     "output_type": "execute_result"
    }
   ],
   "source": [
    "((pred_win_rate_test > 0.5).astype(int).ravel() == y_test.values).mean()"
   ]
  },
  {
   "cell_type": "code",
   "execution_count": 12,
   "id": "bb4f5691",
   "metadata": {
    "execution": {
     "iopub.execute_input": "2024-11-08T20:51:59.379081Z",
     "iopub.status.busy": "2024-11-08T20:51:59.378147Z",
     "iopub.status.idle": "2024-11-08T20:51:59.664127Z",
     "shell.execute_reply": "2024-11-08T20:51:59.662833Z"
    },
    "papermill": {
     "duration": 0.296001,
     "end_time": "2024-11-08T20:51:59.667396",
     "exception": false,
     "start_time": "2024-11-08T20:51:59.371395",
     "status": "completed"
    },
    "tags": []
   },
   "outputs": [
    {
     "data": {
      "image/png": "[encoded data removed]",
      "text/plain": [
       "<Figure size 640x480 with 1 Axes>"
      ]
     },
     "metadata": {},
     "output_type": "display_data"
    }
   ],
   "source": [
    "fpr, tpr, threshold = roc_curve(y_test_tensor, pred_win_rate_test)\n",
    "plt.title('Receiver Operating Characteristic')\n",
    "plt.plot(fpr, tpr, 'b', label = f\"AUC = {roc_auc_score(y_test_tensor, pred_win_rate_test):.3}\")\n",
    "plt.legend(loc = 'lower right')\n",
    "plt.plot([0, 1], [0, 1],'r--')\n",
    "plt.xlim([0, 1])\n",
    "plt.ylim([0, 1])\n",
    "plt.ylabel('True Positive Rate')\n",
    "plt.xlabel('False Positive Rate')\n",
    "plt.show()"
   ]
  }
 ],
 "metadata": {
  "kaggle": {
   "accelerator": "none",
   "dataSources": [
    {
     "datasetId": 6033524,
     "sourceId": 9836139,
     "sourceType": "datasetVersion"
    }
   ],
   "dockerImageVersionId": 30786,
   "isGpuEnabled": false,
   "isInternetEnabled": true,
   "language": "python",
   "sourceType": "notebook"
  },
  "kernelspec": {
   "display_name": "Python 3",
   "language": "python",
   "name": "python3"
  },
  "language_info": {
   "codemirror_mode": {
    "name": "ipython",
    "version": 3
   },
   "file_extension": ".py",
   "mimetype": "text/x-python",
   "name": "python",
   "nbconvert_exporter": "python",
   "pygments_lexer": "ipython3",
   "version": "3.10.14"
  },
  "papermill": {
   "default_parameters": {},
   "duration": 52.84385,
   "end_time": "2024-11-08T20:52:01.002472",
   "environment_variables": {},
   "exception": null,
   "input_path": "__notebook__.ipynb",
   "output_path": "__notebook__.ipynb",
   "parameters": {},
   "start_time": "2024-11-08T20:51:08.158622",
   "version": "2.6.0"
  }
 },
 "nbformat": 4,
 "nbformat_minor": 5
}
